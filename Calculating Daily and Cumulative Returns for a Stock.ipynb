{
 "cells": [
  {
   "cell_type": "markdown",
   "id": "f1178c71-8e3a-45a0-8fac-4469c8789939",
   "metadata": {},
   "source": [
    "# Notebook Instructions\n",
    "\n",
    "1. If you are new to Jupyter notebooks, please go through this introductory manual <a href='https://quantra.quantinsti.com/quantra-notebook' target=\"_blank\">here</a>.\n",
    "1. Any changes made in this notebook would be lost after you close the browser window. **You can download the notebook to save your work on your PC.**\n",
    "1. Before running this notebook on your local PC:<br>\n",
    "i.  You need to set up a Python environment and the relevant packages on your local PC. To do so, go through the section on \"**Python Installation**\" in the course.<br>\n",
    "ii. You need to **download the zip file available in the last unit** of this course. The zip file contains the data files and/or python modules that might be required to run this notebook."
   ]
  },
  {
   "cell_type": "markdown",
   "id": "f2620bb2",
   "metadata": {
    "id": "-7PpDY5ghd6V"
   },
   "source": [
    "# Calculating Daily and Cumulative Returns for a Stock\n",
    "\n",
    "In this notebook, you will first read the price data of a stock and calculate its daily as well as total returns. You will also plot these returns and check if daily returns can be added to give total returns. Further, you will calculate the cumulative returns of the stock to explain the journey of the stock return.\n",
    "\n",
    "After completing the notebook, you will be able to\n",
    "1. Calculate and plot daily and total returns \n",
    "2. Test the additive properties of cumulative returns\n",
    "\n",
    "\n",
    "In this notebook, you will perform the following steps:\n",
    "\n",
    "1. [Read and plot the close price data](#read)\n",
    "3. [Calculate one day return](#one)\n",
    "4. [Calculate total return](#total)\n",
    "5. [Calculate and plot daily returns](#daily)\n",
    "6. [Are daily returns time additive?](#time)\n",
    "7. [Calculate cumulative returns](#cumulative)\n",
    "8. [Cumulative arithmetic returns vs compounded returns](#plot)\n",
    "9. [Conclusion](#tweak)\n",
    "    \n",
    "<a id='read'></a> \n",
    "## Read and plot the close price data\n",
    "The price data for Twitter is stored in the CSV file. The CSV file contains the price data of Twitter from 30 June to 29 July 2020. To read a CSV file, you can use `read_csv` method of `pandas`. The syntax is shown below.\n",
    "\n",
    "Syntax: \n",
    "```python\n",
    "import pandas as pd\n",
    "pd.read_csv(filename,index_col)\n",
    "```\n",
    "1. **filename**: name of the file in the string format\n",
    "2. **index_col**: the column number to set as index"
   ]
  },
  {
   "cell_type": "code",
   "execution_count": 2,
   "id": "86d091cd",
   "metadata": {
    "id": "j8jHWxzLhd6V",
    "outputId": "fb49b120-0ce3-4cbd-b6b3-510053e7308a"
   },
   "outputs": [
    {
     "data": {
      "text/html": [
       "<div>\n",
       "<style scoped>\n",
       "    .dataframe tbody tr th:only-of-type {\n",
       "        vertical-align: middle;\n",
       "    }\n",
       "\n",
       "    .dataframe tbody tr th {\n",
       "        vertical-align: top;\n",
       "    }\n",
       "\n",
       "    .dataframe thead th {\n",
       "        text-align: right;\n",
       "    }\n",
       "</style>\n",
       "<table border=\"1\" class=\"dataframe\">\n",
       "  <thead>\n",
       "    <tr style=\"text-align: right;\">\n",
       "      <th></th>\n",
       "      <th>Open</th>\n",
       "      <th>High</th>\n",
       "      <th>Low</th>\n",
       "      <th>Close</th>\n",
       "      <th>Volume</th>\n",
       "    </tr>\n",
       "    <tr>\n",
       "      <th>Date</th>\n",
       "      <th></th>\n",
       "      <th></th>\n",
       "      <th></th>\n",
       "      <th></th>\n",
       "      <th></th>\n",
       "    </tr>\n",
       "  </thead>\n",
       "  <tbody>\n",
       "    <tr>\n",
       "      <th>2020-06-30</th>\n",
       "      <td>29.629999</td>\n",
       "      <td>29.820000</td>\n",
       "      <td>29.020000</td>\n",
       "      <td>29.790001</td>\n",
       "      <td>20648000</td>\n",
       "    </tr>\n",
       "    <tr>\n",
       "      <th>2020-07-01</th>\n",
       "      <td>30.150000</td>\n",
       "      <td>31.170000</td>\n",
       "      <td>30.059999</td>\n",
       "      <td>30.809999</td>\n",
       "      <td>20779000</td>\n",
       "    </tr>\n",
       "    <tr>\n",
       "      <th>2020-07-02</th>\n",
       "      <td>31.299999</td>\n",
       "      <td>31.400000</td>\n",
       "      <td>30.400000</td>\n",
       "      <td>30.870001</td>\n",
       "      <td>14553700</td>\n",
       "    </tr>\n",
       "    <tr>\n",
       "      <th>2020-07-06</th>\n",
       "      <td>31.549999</td>\n",
       "      <td>32.810001</td>\n",
       "      <td>31.160000</td>\n",
       "      <td>32.340000</td>\n",
       "      <td>22400000</td>\n",
       "    </tr>\n",
       "    <tr>\n",
       "      <th>2020-07-07</th>\n",
       "      <td>31.959999</td>\n",
       "      <td>33.669998</td>\n",
       "      <td>31.770000</td>\n",
       "      <td>32.990002</td>\n",
       "      <td>27940900</td>\n",
       "    </tr>\n",
       "  </tbody>\n",
       "</table>\n",
       "</div>"
      ],
      "text/plain": [
       "                 Open       High        Low      Close    Volume\n",
       "Date                                                            \n",
       "2020-06-30  29.629999  29.820000  29.020000  29.790001  20648000\n",
       "2020-07-01  30.150000  31.170000  30.059999  30.809999  20779000\n",
       "2020-07-02  31.299999  31.400000  30.400000  30.870001  14553700\n",
       "2020-07-06  31.549999  32.810001  31.160000  32.340000  22400000\n",
       "2020-07-07  31.959999  33.669998  31.770000  32.990002  27940900"
      ]
     },
     "execution_count": 2,
     "metadata": {},
     "output_type": "execute_result"
    }
   ],
   "source": [
    "## -------- Import the necessary libraries -------------\n",
    "import pandas as pd\n",
    "import numpy as np\n",
    "import matplotlib.pyplot as plt\n",
    "%matplotlib inline\n",
    "plt.style.use('seaborn-darkgrid')\n",
    "## -------- Read the data -------------\n",
    "# The data is stored in the directory 'data_modules'\n",
    "path = '../data_modules/'\n",
    "data = pd.read_csv(path + 'twitter_price_2020.csv', index_col=0)\n",
    "# Display first five rows of price data\n",
    "data.head()"
   ]
  },
  {
   "cell_type": "markdown",
   "id": "2d7eaa75",
   "metadata": {
    "id": "QO8wWdmOhd6a"
   },
   "source": [
    "To plot the closing price of Twitter, you will use the matplotlib python library. The syntax is shown below:\n",
    "\n",
    "Syntax: \n",
    "```python\n",
    "import matplotlib.pyplot as plt\n",
    "dataframe.column.plot(figsize,color)\n",
    "```\n",
    "1. **figsize**: set size of x and y axis\n",
    "2. **color**: set color for line"
   ]
  },
  {
   "cell_type": "code",
   "execution_count": 3,
   "id": "b2883424",
   "metadata": {
    "id": "cdY3Wzerhd6b",
    "outputId": "a036b39b-312e-4edc-f2df-d509f2306381"
   },
   "outputs": [
    {
     "data": {
      "image/png": "[encoded data removed]",
      "text/plain": [
       "<Figure size 720x504 with 1 Axes>"
      ]
     },
     "metadata": {
      "needs_background": "light"
     },
     "output_type": "display_data"
    }
   ],
   "source": [
    "# Plotting the Close price column\n",
    "data.Close.plot(figsize=(10, 7), color='green')\n",
    "# Setting the graph title\n",
    "plt.title(\"Closing Price of Twitter\", fontsize=14)\n",
    "# Setting the y axis title\n",
    "plt.ylabel('Price ($)')\n",
    "# Function for showing graph\n",
    "plt.show()"
   ]
  },
  {
   "cell_type": "markdown",
   "id": "db0462d4",
   "metadata": {
    "id": "RhQZdHrnhd6d"
   },
   "source": [
    "<a id='one'></a>\n",
    "## Calculate one day return\n",
    "\n",
    "You will first calculate the return for one day. If you had bought the stock of Twitter on the close of 30 June and sold it on the close of next day ie July 1, you can calculate your return in the following manner.\n",
    "$$\\text{One day Return} =\\frac{(\\text{Today's Price - Yesterday's Price)}}{\\text{Yesterday's Price}} = \\frac{\\text{Today's Price}}{\\text{Yesterday's Price}}-1$$"
   ]
  },
  {
   "cell_type": "markdown",
   "id": "e9b58c02",
   "metadata": {
    "id": "tAXXXePJhd6h"
   },
   "source": [
    "To convert it into percentage format, you will multiply the `one_day_returns` with 100."
   ]
  },
  {
   "cell_type": "code",
   "execution_count": 4,
   "id": "85736b3e",
   "metadata": {
    "id": "reAt9JkIhd6i",
    "outputId": "1f7209ac-6793-4ca5-b514-b3962064264b"
   },
   "outputs": [
    {
     "data": {
      "text/plain": [
       "'The returns in percentage terms are 3.42%'"
      ]
     },
     "execution_count": 4,
     "metadata": {},
     "output_type": "execute_result"
    }
   ],
   "source": [
    "one_day_returns = data.Close[1]/data.Close[0]-1\n",
    "'The returns in percentage terms are %.2f%%' % (one_day_returns*100)"
   ]
  },
  {
   "cell_type": "markdown",
   "id": "7cac1d4e",
   "metadata": {
    "id": "i4XLrJddhd6k"
   },
   "source": [
    "<a id='total'></a>\n",
    "## Calculate total returns\n",
    "You will compute the returns from 30 June to 29 July, to calculate the total returns.\n",
    "The last row of a dataframe can be accessed by using the following property of dataframe:<br>\n",
    "`dataframe.column[-1]`\n",
    "\n",
    "The formula for calculating total returns is given as follows:\n",
    "$$\\text{Total Return} =\\frac{(\\text{Last Period's Price - First Period's Price)}}{\\text{First Period's Price}} = \\frac{\\text{Last Period's Price}}{\\text{First Period}}-1$$"
   ]
  },
  {
   "cell_type": "code",
   "execution_count": 5,
   "id": "6b4fbe21",
   "metadata": {
    "id": "VGXgx9x4hd6l",
    "outputId": "de7430e3-1971-4e89-8b88-006c45ca7d02"
   },
   "outputs": [
    {
     "data": {
      "text/plain": [
       "'The total returns from 30 June to 29 July is 24.74%'"
      ]
     },
     "execution_count": 5,
     "metadata": {},
     "output_type": "execute_result"
    }
   ],
   "source": [
    "total_returns = data.Close[-1]/data.Close[0]-1\n",
    "'The total returns from 30 June to 29 July is %.2f%%' % (total_returns*100)"
   ]
  },
  {
   "cell_type": "markdown",
   "id": "99808727",
   "metadata": {
    "id": "xEEq9SYshd6n"
   },
   "source": [
    "---\n",
    "<a id='daily'></a>\n",
    "## Calculate and plot daily returns\n",
    "You have already calculated the one day return before. If we calculate it for everyday, we will get the daily returns.\n",
    "\n",
    "You can also use the `pct_change()` function of Python to calculate the daily returns in a simple manner. \n",
    "\n",
    "Syntax: \n",
    "```python\n",
    "import pandas as pd\n",
    "dataframe.pct_change()\n",
    "```"
   ]
  },
  {
   "cell_type": "code",
   "execution_count": 6,
   "id": "a737a077",
   "metadata": {
    "id": "B0Qc3Yqkhd6o",
    "outputId": "4ce64ef4-0f7b-4a4e-bc45-99f3d064fa02"
   },
   "outputs": [
    {
     "data": {
      "text/html": [
       "<div>\n",
       "<style scoped>\n",
       "    .dataframe tbody tr th:only-of-type {\n",
       "        vertical-align: middle;\n",
       "    }\n",
       "\n",
       "    .dataframe tbody tr th {\n",
       "        vertical-align: top;\n",
       "    }\n",
       "\n",
       "    .dataframe thead th {\n",
       "        text-align: right;\n",
       "    }\n",
       "</style>\n",
       "<table border=\"1\" class=\"dataframe\">\n",
       "  <thead>\n",
       "    <tr style=\"text-align: right;\">\n",
       "      <th></th>\n",
       "      <th>Open</th>\n",
       "      <th>High</th>\n",
       "      <th>Low</th>\n",
       "      <th>Close</th>\n",
       "      <th>Volume</th>\n",
       "      <th>daily_returns</th>\n",
       "    </tr>\n",
       "    <tr>\n",
       "      <th>Date</th>\n",
       "      <th></th>\n",
       "      <th></th>\n",
       "      <th></th>\n",
       "      <th></th>\n",
       "      <th></th>\n",
       "      <th></th>\n",
       "    </tr>\n",
       "  </thead>\n",
       "  <tbody>\n",
       "    <tr>\n",
       "      <th>2020-06-30</th>\n",
       "      <td>29.629999</td>\n",
       "      <td>29.820000</td>\n",
       "      <td>29.020000</td>\n",
       "      <td>29.790001</td>\n",
       "      <td>20648000</td>\n",
       "      <td>NaN</td>\n",
       "    </tr>\n",
       "    <tr>\n",
       "      <th>2020-07-01</th>\n",
       "      <td>30.150000</td>\n",
       "      <td>31.170000</td>\n",
       "      <td>30.059999</td>\n",
       "      <td>30.809999</td>\n",
       "      <td>20779000</td>\n",
       "      <td>0.034240</td>\n",
       "    </tr>\n",
       "    <tr>\n",
       "      <th>2020-07-02</th>\n",
       "      <td>31.299999</td>\n",
       "      <td>31.400000</td>\n",
       "      <td>30.400000</td>\n",
       "      <td>30.870001</td>\n",
       "      <td>14553700</td>\n",
       "      <td>0.001947</td>\n",
       "    </tr>\n",
       "    <tr>\n",
       "      <th>2020-07-06</th>\n",
       "      <td>31.549999</td>\n",
       "      <td>32.810001</td>\n",
       "      <td>31.160000</td>\n",
       "      <td>32.340000</td>\n",
       "      <td>22400000</td>\n",
       "      <td>0.047619</td>\n",
       "    </tr>\n",
       "    <tr>\n",
       "      <th>2020-07-07</th>\n",
       "      <td>31.959999</td>\n",
       "      <td>33.669998</td>\n",
       "      <td>31.770000</td>\n",
       "      <td>32.990002</td>\n",
       "      <td>27940900</td>\n",
       "      <td>0.020099</td>\n",
       "    </tr>\n",
       "  </tbody>\n",
       "</table>\n",
       "</div>"
      ],
      "text/plain": [
       "                 Open       High        Low      Close    Volume  \\\n",
       "Date                                                               \n",
       "2020-06-30  29.629999  29.820000  29.020000  29.790001  20648000   \n",
       "2020-07-01  30.150000  31.170000  30.059999  30.809999  20779000   \n",
       "2020-07-02  31.299999  31.400000  30.400000  30.870001  14553700   \n",
       "2020-07-06  31.549999  32.810001  31.160000  32.340000  22400000   \n",
       "2020-07-07  31.959999  33.669998  31.770000  32.990002  27940900   \n",
       "\n",
       "            daily_returns  \n",
       "Date                       \n",
       "2020-06-30            NaN  \n",
       "2020-07-01       0.034240  \n",
       "2020-07-02       0.001947  \n",
       "2020-07-06       0.047619  \n",
       "2020-07-07       0.020099  "
      ]
     },
     "execution_count": 6,
     "metadata": {},
     "output_type": "execute_result"
    }
   ],
   "source": [
    "# Calculate Daily returns\n",
    "data['daily_returns'] = data.Close.pct_change()\n",
    "data.head()"
   ]
  },
  {
   "cell_type": "markdown",
   "id": "595618e1",
   "metadata": {
    "id": "0-gFviR9hd6q"
   },
   "source": [
    "The daily returns are plotted as a bar chart for better visibility. We use the `plot.bar()` function of the matplotlib library to plot the bar chart. Since the daily returns are shown in percentage format, we multiply the daily returns with 100. Also, we would like to show positive daily returns as green in color, while negative in red. You will use `np.where` function for this task. It can be used to check a condition. \n",
    "\n",
    "The syntax for plot.bar is as follows: \n",
    "```python\n",
    "dataframe.plot.bar(figsize,color)\n",
    "```\n",
    "1. **figsize**: set size of x and y axis\n",
    "2. **color**: set color for line\n",
    "\n",
    "The syntax for np.where is as follows:\n",
    "```python\n",
    "import numpy as np\n",
    "np.where(condition,value_if_true,value_if_false)\n",
    "```\n",
    "\n",
    "Parameters\n",
    "\n",
    "*   condition: Condition to check\n",
    "*   value_if_true: Value if the condition is satisfied\n",
    "*   value_if_false: Value if the condition is not satisfied\n"
   ]
  },
  {
   "cell_type": "code",
   "execution_count": 7,
   "id": "d0d91ddc",
   "metadata": {
    "id": "4eed34W4hd6r",
    "outputId": "4bef4ac5-8d4d-40a2-fe13-7b570469eaed"
   },
   "outputs": [
    {
     "data": {
      "image/png": "[encoded data removed]",
      "text/plain": [
       "<Figure size 720x504 with 1 Axes>"
      ]
     },
     "metadata": {
      "needs_background": "light"
     },
     "output_type": "display_data"
    }
   ],
   "source": [
    "# Plot bar graph of daily returns\n",
    "(data.daily_returns*100).plot.bar(figsize=(10, 7),\n",
    "                                  color=np.where(data.daily_returns > 0,\n",
    "                                                 'green', 'red'))\n",
    "plt.title(\"Daily Returns\", fontsize=14)\n",
    "plt.ylabel('Daily Returns (%)')\n",
    "plt.show()"
   ]
  },
  {
   "cell_type": "markdown",
   "id": "0f3ba9bb",
   "metadata": {
    "id": "G0h_dn1uRpF3"
   },
   "source": [
    "Based on the graph of daily returns, you can see that the highest daily return was on July 8. Similarly, the lowest daily return was on July 13. You can also say the range of daily returns is (7.5 - (-4.2)) = 11.7."
   ]
  },
  {
   "cell_type": "markdown",
   "id": "2ba40a0f",
   "metadata": {
    "id": "ahOTeUUVhd6u"
   },
   "source": [
    "---\n",
    "<a id='time'></a>\n",
    "### Are daily returns time additive?\n",
    "\n",
    "How will you compute the total returns using the daily returns? Should you add or multiply. First you will try if addition of daily returns gives you the total returns.\n",
    "\n",
    "To find out, we will use the `sum()` function and compare it with the full period returns we had calculated earlier in the notebook.\n",
    "\n",
    "`dataframe.sum()`: It can be used to take the sum of all elements."
   ]
  },
  {
   "cell_type": "code",
   "execution_count": 7,
   "id": "23cf991e",
   "metadata": {
    "id": "KgqsvjAbhd6u",
    "outputId": "1e8bc531-97b8-418f-d7e6-628f1e1ac453"
   },
   "outputs": [
    {
     "data": {
      "text/plain": [
       "'The sum of daily returns percentage is 22.96%'"
      ]
     },
     "execution_count": 7,
     "metadata": {},
     "output_type": "execute_result"
    }
   ],
   "source": [
    "# Calculate sum of all daily returns\n",
    "sum_of_daily_returns = data.daily_returns.sum()\n",
    "'The sum of daily returns percentage is %.2f%%' % (sum_of_daily_returns*100)"
   ]
  },
  {
   "cell_type": "markdown",
   "id": "e8004a24",
   "metadata": {
    "id": "JGpbS8arhd6x"
   },
   "source": [
    "This does not match with the full period returns above, which was 24.74%. Thus, daily returns are not time additive.\n",
    "\n",
    "How to get total returns from daily returns?\n",
    "Instead of addition, we would multiply the daily returns.\n",
    "\n",
    "<a id='cumulative'></a> \n",
    "## Compute cumulative returns\n",
    "We will multiply the daily returns to get the total or cumulative returns. Before we multiply, we will add 1 to the daily returns so that our total is in relation to 1 as the initial investment and not 0.\n",
    "\n",
    "`dataframe.prod()`: It can be used to multiply all elements."
   ]
  },
  {
   "cell_type": "code",
   "execution_count": 8,
   "id": "5483db7c",
   "metadata": {
    "id": "2I0h5Vpdhd6x",
    "outputId": "2b8813e5-4597-4d24-b7f4-1fcc4b9303a3"
   },
   "outputs": [
    {
     "data": {
      "text/plain": [
       "'Product of daily returns is 24.74%'"
      ]
     },
     "execution_count": 8,
     "metadata": {},
     "output_type": "execute_result"
    }
   ],
   "source": [
    "# Add 1 to daily returns\n",
    "data['daily_returns_plus_1'] = data.daily_returns + 1\n",
    "# Multiply all daily returns to get the total returns\n",
    "prod_of_daily_returns_plus_1 = data['daily_returns_plus_1'].prod()\n",
    "# Display total returns\n",
    "'Product of daily returns is %.2f%%' % ((prod_of_daily_returns_plus_1-1)*100)"
   ]
  },
  {
   "cell_type": "markdown",
   "id": "b169d45f",
   "metadata": {
    "id": "td2UjaYzb6_O"
   },
   "source": [
    "You can see that the cumulative product matches the total returns which were computed earlier."
   ]
  },
  {
   "cell_type": "markdown",
   "id": "ee9783d9",
   "metadata": {
    "id": "D6cS46DUhd60"
   },
   "source": [
    "---\n",
    "<a id='plot'></a> \n",
    "## Cumulative arithmetic returns vs compounded returns\n",
    "\n",
    "To check the difference between the cumulative sum and the cumulative product, we will plot both in the same graph.\n",
    "\n",
    "The following methods/properties are used\n",
    "\n",
    "1. `dataframe.cumsum()`: It can be used to get the cumulative sum.\n",
    "2. `dataframe.cumprod()`: It can be used to get the cumulative product."
   ]
  },
  {
   "cell_type": "code",
   "execution_count": 9,
   "id": "24e32366",
   "metadata": {
    "id": "wSvm3RfRhd60",
    "outputId": "8a12b6f0-f72a-4153-a5e0-283448383877"
   },
   "outputs": [
    {
     "data": {
      "image/png": "[encoded data removed]",
      "text/plain": [
       "<Figure size 720x504 with 1 Axes>"
      ]
     },
     "metadata": {
      "needs_background": "light"
     },
     "output_type": "display_data"
    }
   ],
   "source": [
    "((data.daily_returns+1).cumprod()-1).plot(figsize=(10, 7),\n",
    "                                          label='Cumulative Product',\n",
    "                                          color='blue')\n",
    "(data['daily_returns'].cumsum()).plot(figsize=(10, 7), label='Cumulative Sum',\n",
    "                                      color='red', style='-.')\n",
    "plt.title('Cumulative Sum vs. Cumulative Product')\n",
    "plt.ylabel('Cumulative sum and product')\n",
    "plt.legend()\n",
    "plt.show()"
   ]
  },
  {
   "cell_type": "markdown",
   "id": "5cd59cdc",
   "metadata": {
    "id": "SqCj8PijZSaL"
   },
   "source": [
    "The cumulative product is the correct method when compared with the cumulative sum. Daily returns are small in magnitude and hence might seem insignificant in the above graph, but this is because the dataset is of only one month. When your backtesting data comprises years or even decades of data, the difference between cumulative sum and product will become significant."
   ]
  },
  {
   "cell_type": "markdown",
   "id": "809d32d4",
   "metadata": {
    "id": "lAkRVC6Ihd62"
   },
   "source": [
    "<a id='tweak'></a>\n",
    "## Conclusion\n",
    "\n",
    "We learnt how to calculate and plot the cumulative product to visualise the price journey of the asset.\n",
    "\n",
    "In the next unit, you will be implementing parts of the code presented in the notebook through interactive exercises."
   ]
  }
 ],
 "metadata": {
  "colab": {
   "collapsed_sections": [],
   "name": "returns_rekhit.ipynb",
   "provenance": []
  },
  "kernelspec": {
   "display_name": "Python 3 (ipykernel)",
   "language": "python",
   "name": "python3"
  },
  "language_info": {
   "codemirror_mode": {
    "name": "ipython",
    "version": 3
   },
   "file_extension": ".py",
   "mimetype": "text/x-python",
   "name": "python",
   "nbconvert_exporter": "python",
   "pygments_lexer": "ipython3",
   "version": "3.9.5"
  }
 },
 "nbformat": 4,
 "nbformat_minor": 5
}
